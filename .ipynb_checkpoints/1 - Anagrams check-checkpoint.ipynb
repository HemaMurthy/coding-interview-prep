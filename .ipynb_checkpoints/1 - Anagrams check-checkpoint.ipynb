{
 "cells": [
  {
   "cell_type": "markdown",
   "metadata": {},
   "source": [
    "An *anagram* is a word or phrase formed by rearranging the letters of a different word or phrase\n",
    "\n",
    "Questions:\n",
    "\n",
    "- Case sensitivity\n",
    "- can strings be null?\n",
    "- can an alphabet be repeated more than once?"
   ]
  },
  {
   "cell_type": "code",
   "execution_count": 1,
   "metadata": {},
   "outputs": [],
   "source": [
    "#repetitions allowed\n",
    "def isAnagram( string1, string2):\n",
    "    #storing string 1 into a list\n",
    "    list_string1 = []\n",
    "    \n",
    "    for i in range(len(string1)):\n",
    "        list_string1.append(string1[i])\n",
    "        \n",
    "    #check if all characters in string2 are present in string1\n",
    "    for i in range(len(string2)):\n",
    "        if string2[i] not in list_string1:\n",
    "            return False\n",
    "        \n",
    "    return True"
   ]
  },
  {
   "cell_type": "code",
   "execution_count": 2,
   "metadata": {},
   "outputs": [
    {
     "data": {
      "text/plain": [
       "True"
      ]
     },
     "execution_count": 2,
     "metadata": {},
     "output_type": "execute_result"
    }
   ],
   "source": [
    "#example1\n",
    "string1 = 'fried'\n",
    "string2 = 'fired'\n",
    "\n",
    "isAnagram(string1, string2)"
   ]
  },
  {
   "cell_type": "code",
   "execution_count": 4,
   "metadata": {},
   "outputs": [
    {
     "data": {
      "text/plain": [
       "False"
      ]
     },
     "execution_count": 4,
     "metadata": {},
     "output_type": "execute_result"
    }
   ],
   "source": [
    "#example1\n",
    "string1 = 'fireplace'\n",
    "string2 = 'fired'\n",
    "\n",
    "isAnagram(string1, string2)"
   ]
  },
  {
   "cell_type": "code",
   "execution_count": null,
   "metadata": {},
   "outputs": [],
   "source": []
  }
 ],
 "metadata": {
  "kernelspec": {
   "display_name": "Python 3",
   "language": "python",
   "name": "python3"
  },
  "language_info": {
   "codemirror_mode": {
    "name": "ipython",
    "version": 3
   },
   "file_extension": ".py",
   "mimetype": "text/x-python",
   "name": "python",
   "nbconvert_exporter": "python",
   "pygments_lexer": "ipython3",
   "version": "3.6.9"
  }
 },
 "nbformat": 4,
 "nbformat_minor": 2
}
