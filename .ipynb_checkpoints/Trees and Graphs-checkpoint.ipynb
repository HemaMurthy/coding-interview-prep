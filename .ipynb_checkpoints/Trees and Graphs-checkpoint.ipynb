{
 "cells": [
  {
   "cell_type": "markdown",
   "metadata": {},
   "source": [
    "## Basic Tree structure\n",
    "A tree consists of nodes and its connections are called *edges*. The bottom nodes are also named leaf nodes. A tree may not have a cycle."
   ]
  },
  {
   "cell_type": "code",
   "execution_count": 2,
   "metadata": {},
   "outputs": [],
   "source": [
    "class Tree(object):\n",
    "    def __init__(self):\n",
    "        self.left = None\n",
    "        self.right = None\n",
    "        self.data = None\n",
    "        \n",
    "root = Tree()"
   ]
  },
  {
   "cell_type": "markdown",
   "metadata": {},
   "source": [
    "## Binary Tree\n",
    "A binary tree is a data structure where every node has at most two children (left and right child)\n",
    "\n",
    "### Full Binary Tree\n",
    "Full Binary Tree A Binary Tree is full if every node has 0 or 2 children. \n",
    "\n",
    "### Complete Binary Tree\n",
    "A Binary Tree is complete Binary Tree if all levels are completely filled except possibly the last level and the last level has all keys as left as possible\n",
    "\n",
    "### Perfect Binary Tree\n",
    "Perfect Binary Tree A Binary tree is Perfect Binary Tree in which all internal nodes have two children and all leaves are at the same level.\n",
    "\n",
    "### Balanced Binary Tree\n",
    "A binary tree is balanced if the height of the tree is O(Log n) where n is the number of nodes.\n",
    "\n",
    "#### AVL Trees\n",
    "AVL tree maintains O(Log n) height by making sure that the difference between heights of left and right subtrees is atmost 1. \n",
    "\n",
    "#### Red Black Trees\n",
    "Red-Black trees maintain O(Log n) height by making sure that the number of Black nodes on every root to leaf paths are same and there are no adjacent red nodes. \n",
    "\n",
    "#### Balanced Binary Search Trees\n",
    "Balanced Binary Search trees are performance wise good as they provide O(log n) time for search, insert and delete.\n",
    "\n",
    "### Pathological Tree\n",
    "Tree where every internal node has one child. Such trees are performance-wise same as linked list."
   ]
  },
  {
   "cell_type": "code",
   "execution_count": 11,
   "metadata": {},
   "outputs": [
    {
     "name": "stdout",
     "output_type": "stream",
     "text": [
      "8\n",
      "6\n",
      "3\n"
     ]
    }
   ],
   "source": [
    "#inserting into a binary tree\n",
    "class Tree(object):\n",
    "    \n",
    "    def __init__(self, data):\n",
    "        self.value = data\n",
    "        self.right = None\n",
    "        self.left = None\n",
    "    \n",
    "    def printTree(self):\n",
    "        if self.left:\n",
    "            self.left.printTree()\n",
    "        print( self.value)\n",
    "        if self.right:\n",
    "            self.right.printTree()\n",
    "    \n",
    "    def insert(self, newVal):\n",
    "        \n",
    "        if self.value: #not empty\n",
    "            \n",
    "            if newVal > self.value:\n",
    "                \n",
    "                if self.left is None: #left node is empty\n",
    "                    self.left = Tree(newVal)\n",
    "                else:\n",
    "                    self.left.insert = newVal\n",
    "                    \n",
    "            else:\n",
    "                \n",
    "                if self.right is None: #right Node is empty\n",
    "                    self.right = Tree(newVal)\n",
    "                else:\n",
    "                    self.right.insert(newVal)\n",
    "        else: #if tree is empty\n",
    "            self.value = newVal\n",
    "            \n",
    "        \n",
    "            \n",
    "root = Tree(6)\n",
    "root.insert(3)\n",
    "root.insert(8)\n",
    "\n",
    "root.printTree()"
   ]
  },
  {
   "cell_type": "markdown",
   "metadata": {},
   "source": [
    "----------------------------------------------------------------------------------------------------------------------------"
   ]
  },
  {
   "cell_type": "markdown",
   "metadata": {},
   "source": [
    "# Tree Traversals\n",
    "\n",
    "## 1 Depth First Search\n",
    "time complexity = O(n)\n",
    "- Inorder (Left, Root, Right) \n",
    "- Preorder (Root, Left, Right)\n",
    "- Postorder (Left, Right, Root) \n",
    "\n",
    "## 2 Breadth First Search\n",
    "time complexity = O(n)"
   ]
  },
  {
   "cell_type": "code",
   "execution_count": 29,
   "metadata": {},
   "outputs": [],
   "source": [
    "#Depth First Search\n",
    "class Tree(object):\n",
    "    \n",
    "    def __init__(self, data):\n",
    "        self.value = data\n",
    "        self.right = None\n",
    "        self.left = None\n",
    "    \n",
    "    def insert(self, newValue):\n",
    "        if self.value: #if self is not empty\n",
    "            if newValue > self.value:\n",
    "                if self.left is None:\n",
    "                    self.left = Tree(newValue)\n",
    "                else:\n",
    "                    self.left.insert(newValue)\n",
    "            else:\n",
    "                if self.right is None:\n",
    "                    self.right = Tree(newValue)\n",
    "                else:\n",
    "                    self.right.insert(newValue)\n",
    "        else: #if empty Tree\n",
    "            self.value = newValue\n",
    "        \n",
    "    def inorder(self):\n",
    "        if self.left:\n",
    "            self.left.inorder()\n",
    "        print(self.value)\n",
    "        if self.right:\n",
    "            self.right.inorder()\n",
    "        \n",
    "    def preorder(self):\n",
    "        print(self.value)\n",
    "        if self.left:\n",
    "            self.left.preorder()\n",
    "        if self.right:\n",
    "            self.right.preorder()\n",
    "    \n",
    "    def postorder(self):\n",
    "        if self.left:\n",
    "            self.left.postorder()\n",
    "        if self.right:\n",
    "            self.right.postorder()\n",
    "        print(self.value)\n",
    "\n",
    "        \n",
    "root = Tree(27)\n",
    "root.insert(14)\n",
    "root.insert(35)\n",
    "root.insert(10)\n",
    "root.insert(19)\n",
    "root.insert(31)\n",
    "root.insert(43)"
   ]
  },
  {
   "cell_type": "code",
   "execution_count": 30,
   "metadata": {},
   "outputs": [
    {
     "name": "stdout",
     "output_type": "stream",
     "text": [
      "43\n",
      "35\n",
      "31\n",
      "27\n",
      "19\n",
      "14\n",
      "10\n"
     ]
    }
   ],
   "source": [
    "root.inorder()"
   ]
  },
  {
   "cell_type": "code",
   "execution_count": 31,
   "metadata": {},
   "outputs": [
    {
     "name": "stdout",
     "output_type": "stream",
     "text": [
      "27\n",
      "35\n",
      "43\n",
      "31\n",
      "14\n",
      "19\n",
      "10\n"
     ]
    }
   ],
   "source": [
    "root.preorder()"
   ]
  },
  {
   "cell_type": "code",
   "execution_count": 32,
   "metadata": {},
   "outputs": [
    {
     "name": "stdout",
     "output_type": "stream",
     "text": [
      "43\n",
      "31\n",
      "35\n",
      "19\n",
      "10\n",
      "14\n",
      "27\n"
     ]
    }
   ],
   "source": [
    "root.postorder()"
   ]
  },
  {
   "cell_type": "code",
   "execution_count": 36,
   "metadata": {},
   "outputs": [
    {
     "name": "stdout",
     "output_type": "stream",
     "text": [
      "10\n",
      "3\n",
      "12\n",
      "5\n",
      "1\n"
     ]
    }
   ],
   "source": [
    "#Breadth First Search - Queue approach\n",
    "class Tree(object):\n",
    "    \n",
    "    def __init__(self, data):\n",
    "        self.value = data\n",
    "        self.right = None\n",
    "        self.left = None\n",
    "        \n",
    "    def printLevelOrder(self):\n",
    "        if self is None:\n",
    "            return \n",
    "        queue = []\n",
    "        \n",
    "        queue.append(self)\n",
    "\n",
    "        while (len(queue) > 0):\n",
    "            \n",
    "            print(queue[0].value)\n",
    "            self = queue.pop(0)\n",
    "            if self.left is not None:\n",
    "                queue.append(self.left)\n",
    "            if self.right is not None:\n",
    "                queue.append(self.right)\n",
    "                \n",
    "root = Tree(10)\n",
    "root.left = Tree(3)\n",
    "root.right = Tree(12)\n",
    "root.left.right = Tree(1)\n",
    "root.left.left = Tree(5)\n",
    "root.printLevelOrder()"
   ]
  },
  {
   "cell_type": "code",
   "execution_count": null,
   "metadata": {},
   "outputs": [],
   "source": []
  }
 ],
 "metadata": {
  "kernelspec": {
   "display_name": "Python 3",
   "language": "python",
   "name": "python3"
  },
  "language_info": {
   "codemirror_mode": {
    "name": "ipython",
    "version": 3
   },
   "file_extension": ".py",
   "mimetype": "text/x-python",
   "name": "python",
   "nbconvert_exporter": "python",
   "pygments_lexer": "ipython3",
   "version": "3.6.9"
  }
 },
 "nbformat": 4,
 "nbformat_minor": 2
}
