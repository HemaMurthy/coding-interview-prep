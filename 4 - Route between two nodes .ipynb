{
 "cells": [
  {
   "cell_type": "markdown",
   "metadata": {},
   "source": [
    "In a directed graph, find is a route exists between two nodes\n",
    "\n",
    "Questions\n",
    "\n",
    "- can the graph have null elements?\n",
    "- if route doesnt exist, then return False\n",
    "- more than one route?\n",
    "\n",
    "- graph using dictionaries.. key,value pairs and a visited array for each key.. \n",
    "\n",
    "1) find Node1, mark visited =1 \n",
    "\n",
    "2) If Node1 has multiple branches, loop through all child nodes to see if any of them are Node2. If yes, visited =1 and return True.\n",
    "\n",
    "3) Else, loop through all visited =0 nodes to see if you can find Node2.\n"
   ]
  },
  {
   "cell_type": "code",
   "execution_count": 13,
   "metadata": {},
   "outputs": [
    {
     "data": {
      "text/plain": [
       "[1]"
      ]
     },
     "execution_count": 13,
     "metadata": {},
     "output_type": "execute_result"
    }
   ],
   "source": [
    "graph = { \n",
    "        1 : [2,4] ,\n",
    "        2: [3,1],\n",
    "        3: [2,6],\n",
    "        4: [1],\n",
    "        5: [1],\n",
    "        6: [] ,\n",
    "        7: [8,9],\n",
    "        8: [7,8],\n",
    "        9: [7,8] }\n",
    "\n",
    "graph.get(4)"
   ]
  },
  {
   "cell_type": "code",
   "execution_count": 98,
   "metadata": {},
   "outputs": [],
   "source": [
    "def ifPathExists(Node1, Node2, graph, visited):\n",
    "    \n",
    "    if Node2 in graph.get(Node1):\n",
    "        print('Yes, Path Exists')\n",
    "        return True\n",
    "    if visited[Node1] == 1:\n",
    "        return False\n",
    "    else:\n",
    "        visited[Node1]=1\n",
    "        for i in range(len(graph.get(Node1))):\n",
    "            Node1 = graph.get(Node1)[i]\n",
    "            if ifPathExists(Node1, Node2, graph, visited) == True:\n",
    "                return True\n",
    "            else:\n",
    "                return False"
   ]
  },
  {
   "cell_type": "code",
   "execution_count": 100,
   "metadata": {},
   "outputs": [
    {
     "name": "stdout",
     "output_type": "stream",
     "text": [
      "Yes, Path Exists\n"
     ]
    },
    {
     "data": {
      "text/plain": [
       "True"
      ]
     },
     "execution_count": 100,
     "metadata": {},
     "output_type": "execute_result"
    }
   ],
   "source": [
    "visited =[0]*10\n",
    "ifPathExists(7,9,graph, visited)"
   ]
  },
  {
   "cell_type": "code",
   "execution_count": null,
   "metadata": {},
   "outputs": [],
   "source": []
  }
 ],
 "metadata": {
  "kernelspec": {
   "display_name": "Python 3",
   "language": "python",
   "name": "python3"
  },
  "language_info": {
   "codemirror_mode": {
    "name": "ipython",
    "version": 3
   },
   "file_extension": ".py",
   "mimetype": "text/x-python",
   "name": "python",
   "nbconvert_exporter": "python",
   "pygments_lexer": "ipython3",
   "version": "3.6.9"
  }
 },
 "nbformat": 4,
 "nbformat_minor": 2
}
