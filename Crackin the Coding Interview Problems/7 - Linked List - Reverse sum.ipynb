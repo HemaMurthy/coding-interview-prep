{
 "cells": [
  {
   "cell_type": "markdown",
   "metadata": {},
   "source": [
    "Each digit of a number is stored reverse ordered in a linked list.\n",
    "Write a function to find the sum of two such numbers, which should also be stored in a similar linked list\n",
    "\n",
    "Questions\n",
    "\n",
    "- can the numbers be negative?\n",
    "- limitations on size of linked list.?"
   ]
  },
  {
   "cell_type": "code",
   "execution_count": 35,
   "metadata": {},
   "outputs": [],
   "source": [
    "\n",
    "def evenout(number1, number2):\n",
    "    \n",
    "    l1 = len(number1)\n",
    "    l2 = len(number2)\n",
    "    if l1 == l2:\n",
    "        return number1, number2\n",
    "    if l1 > l2:\n",
    "        balance = l1-l2\n",
    "        number2=number2 + [0]*balance\n",
    "    else:\n",
    "        balance = l2-l1\n",
    "        number1=number1+ [0]*balance\n",
    "    return number1, number2\n",
    "\n",
    "def function(number1, number2):\n",
    "    \n",
    "    number3 = []\n",
    "    carry = 0\n",
    "    \n",
    "    number1, number2 = evenout(number1, number2)\n",
    "    print('Number 1:',number1,'\\nNumber 2:', number2)\n",
    "\n",
    "    for i in range(len(number1)):\n",
    "        \n",
    "        t_sum = number1[i] + number2[i] + carry\n",
    "        \n",
    "        if t_sum > 9 :\n",
    "            carry =1\n",
    "            t_sum = t_sum % 10\n",
    "        else: \n",
    "            carry = 0\n",
    "        number3.append(t_sum)\n",
    "    print('Number 3:',number3)\n"
   ]
  },
  {
   "cell_type": "code",
   "execution_count": 36,
   "metadata": {},
   "outputs": [
    {
     "name": "stdout",
     "output_type": "stream",
     "text": [
      "Number 1: [1, 1, 2, 3] \n",
      "Number 2: [9, 5, 6, 0]\n",
      "Number 3: [0, 7, 8, 3]\n"
     ]
    }
   ],
   "source": [
    "#1 adding 3211 and 658\n",
    "number1 = [1,1,2,3]\n",
    "number2 = [9,5,6]\n",
    "\n",
    "function(number1, number2)"
   ]
  },
  {
   "cell_type": "code",
   "execution_count": 37,
   "metadata": {},
   "outputs": [
    {
     "name": "stdout",
     "output_type": "stream",
     "text": [
      "Number 1: [2, 1] \n",
      "Number 2: [0, 0]\n",
      "Number 3: [2, 1]\n"
     ]
    }
   ],
   "source": [
    "#2 adding 12 and 0\n",
    "number1 = [2,1]\n",
    "number2 = [0]\n",
    "function(number1, number2)"
   ]
  },
  {
   "cell_type": "code",
   "execution_count": 38,
   "metadata": {},
   "outputs": [
    {
     "name": "stdout",
     "output_type": "stream",
     "text": [
      "Number 1: [3, 0, 2] \n",
      "Number 2: [3, 0, 2]\n",
      "Number 3: [6, 0, 4]\n"
     ]
    }
   ],
   "source": [
    "#3 adding 203 and 203\n",
    "number1 = [3,0,2]\n",
    "number2 = [3,0,2]\n",
    "function(number1, number2)"
   ]
  },
  {
   "cell_type": "code",
   "execution_count": null,
   "metadata": {},
   "outputs": [],
   "source": []
  }
 ],
 "metadata": {
  "kernelspec": {
   "display_name": "Python 3",
   "language": "python",
   "name": "python3"
  },
  "language_info": {
   "codemirror_mode": {
    "name": "ipython",
    "version": 3
   },
   "file_extension": ".py",
   "mimetype": "text/x-python",
   "name": "python",
   "nbconvert_exporter": "python",
   "pygments_lexer": "ipython3",
   "version": "3.6.9"
  }
 },
 "nbformat": 4,
 "nbformat_minor": 2
}
