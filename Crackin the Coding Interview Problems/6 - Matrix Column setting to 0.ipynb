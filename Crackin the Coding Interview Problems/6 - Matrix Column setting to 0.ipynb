{
 "cells": [
  {
   "cell_type": "markdown",
   "metadata": {},
   "source": [
    "Set entire row and column to 0, if element present in M.N matrix is 0"
   ]
  },
  {
   "cell_type": "code",
   "execution_count": 32,
   "metadata": {},
   "outputs": [],
   "source": [
    "def matrixFunction(myMatrix):\n",
    "        \n",
    "    for i in range(len(myMatrix)):\n",
    "        \n",
    "        if 0 in myMatrix[i]:\n",
    "            index_row = i\n",
    "            index_col = myMatrix[i].index(0)\n",
    "            print(index_row, index_col)\n",
    "            myMatrix[index_row]=[0]*len(myMatrix[0]) #setting entire row to 0\n",
    "            for j in range(len(myMatrix)):\n",
    "                myMatrix[j][index_col]=0\n",
    "                \n",
    "    return myMatrix\n",
    "    \n",
    "def printMatrix(myMatrix):\n",
    "    for i in range(len(myMatrix)):\n",
    "            print(myMatrix[i])"
   ]
  },
  {
   "cell_type": "code",
   "execution_count": 33,
   "metadata": {},
   "outputs": [
    {
     "name": "stdout",
     "output_type": "stream",
     "text": [
      "[1, 1, 1, 1, 1, 1]\n",
      "[1, 1, 1, 1, 1, 1]\n",
      "[1, 0, 1, 1, 1, 1]\n"
     ]
    }
   ],
   "source": [
    "myMatrix = [ [1]*6 , [1]*6, [1,0,1,1,1,1]]\n",
    "printMatrix(myMatrix)"
   ]
  },
  {
   "cell_type": "code",
   "execution_count": 34,
   "metadata": {},
   "outputs": [
    {
     "name": "stdout",
     "output_type": "stream",
     "text": [
      "2 1\n",
      "[1, 0, 1, 1, 1, 1]\n",
      "[1, 0, 1, 1, 1, 1]\n",
      "[0, 0, 0, 0, 0, 0]\n"
     ]
    }
   ],
   "source": [
    "myMatrix = matrixFunction(myMatrix)\n",
    "printMatrix(myMatrix)"
   ]
  },
  {
   "cell_type": "code",
   "execution_count": null,
   "metadata": {},
   "outputs": [],
   "source": []
  }
 ],
 "metadata": {
  "kernelspec": {
   "display_name": "Python 3",
   "language": "python",
   "name": "python3"
  },
  "language_info": {
   "codemirror_mode": {
    "name": "ipython",
    "version": 3
   },
   "file_extension": ".py",
   "mimetype": "text/x-python",
   "name": "python",
   "nbconvert_exporter": "python",
   "pygments_lexer": "ipython3",
   "version": "3.6.9"
  }
 },
 "nbformat": 4,
 "nbformat_minor": 2
}
